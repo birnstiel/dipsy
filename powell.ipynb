{
 "cells": [
  {
   "cell_type": "code",
   "execution_count": null,
   "metadata": {},
   "outputs": [],
   "source": [
    "import numpy as np\n",
    "import matplotlib.pyplot as plt\n",
    "import astropy.constants as c\n",
    "import astropy.units as u\n",
    "from scipy.interpolate import interp2d\n",
    "\n",
    "import twopoppy\n",
    "import dsharp_opac as op\n",
    "\n",
    "from dipsy_functions import get_powerlaw_dust_distribution\n",
    "\n",
    "au = c.au.cgs.value\n",
    "year = (1*u.year).cgs.value\n",
    "\n",
    "%matplotlib inline"
   ]
  },
  {
   "cell_type": "markdown",
   "metadata": {},
   "source": [
    "## Load opacities"
   ]
  },
  {
   "cell_type": "code",
   "execution_count": null,
   "metadata": {},
   "outputs": [],
   "source": [
    "with np.load(op.get_datafile('default_opacities.npz')) as f:\n",
    "    a_op      = f['a']\n",
    "    lam_op    = f['lam']\n",
    "    k_abs     = f['k_abs']\n",
    "    k_sca     = f['k_sca']\n",
    "    rho_s_op  = f['rho_s']"
   ]
  },
  {
   "cell_type": "markdown",
   "metadata": {},
   "source": [
    "## Set up simulation"
   ]
  },
  {
   "cell_type": "code",
   "execution_count": null,
   "metadata": {},
   "outputs": [],
   "source": [
    "args = twopoppy.args()\n",
    "\n",
    "# make sure we use the same grain density as in the opacities\n",
    "\n",
    "args.rhos = rho_s_op[()]"
   ]
  },
  {
   "cell_type": "code",
   "execution_count": null,
   "metadata": {},
   "outputs": [],
   "source": [
    "args.print_args()"
   ]
  },
  {
   "cell_type": "code",
   "execution_count": null,
   "metadata": {},
   "outputs": [],
   "source": [
    "res = twopoppy.wrapper.model_wrapper(args)"
   ]
  },
  {
   "cell_type": "code",
   "execution_count": null,
   "metadata": {},
   "outputs": [],
   "source": [
    "# set some time snapshot index\n",
    "it = -1"
   ]
  },
  {
   "cell_type": "code",
   "execution_count": null,
   "metadata": {},
   "outputs": [],
   "source": [
    "f, ax = plt.subplots()\n",
    "ax.loglog(res.x / au, res.a_fr[it, :], label='fragmentation')\n",
    "ax.loglog(res.x / au, res.a_dr[it, :], label='drift')\n",
    "ax.loglog(res.x / au, res.a_t[it, :], 'k--', label='$a_\\mathrm{max}$')\n",
    "ax.set_ylim(1e-4, 1e4)\n",
    "ax.set_title(f'time = {res.timesteps[it] / year:.2g} yr')\n",
    "ax.legend();"
   ]
  },
  {
   "cell_type": "code",
   "execution_count": null,
   "metadata": {},
   "outputs": [],
   "source": [
    "f, ax = plt.subplots()\n",
    "ax.loglog(res.x / au, res.sigma_g[it, :], label='gas')\n",
    "ax.loglog(res.x / au, res.sigma_d[it, :], label='dust')\n",
    "ax.set_ylim(1e-4, 1e4)\n",
    "ax.set_title(f'time = {res.timesteps[it] / year:.2g} yr')\n",
    "ax.legend();"
   ]
  },
  {
   "cell_type": "markdown",
   "metadata": {},
   "source": [
    "## Plot size distribution from the code"
   ]
  },
  {
   "cell_type": "code",
   "execution_count": null,
   "metadata": {},
   "outputs": [],
   "source": [
    "f, ax = plt.subplots()\n",
    "cc = ax.pcolormesh(res.x / au, res.a, np.log10(res.sig_sol), vmin=-10, vmax=1)\n",
    "ax.set_xscale('log')\n",
    "ax.set_yscale('log')\n",
    "plt.colorbar(cc);"
   ]
  },
  {
   "cell_type": "markdown",
   "metadata": {},
   "source": [
    "## Create power-law size distribution"
   ]
  },
  {
   "cell_type": "code",
   "execution_count": null,
   "metadata": {},
   "outputs": [],
   "source": [
    "a, a_i, sig_da = get_powerlaw_dust_distribution(res.sigma_d[it, :], res.a_t[it, :], a0=args.a0, na=100)"
   ]
  },
  {
   "cell_type": "code",
   "execution_count": null,
   "metadata": {},
   "outputs": [],
   "source": [
    "f, ax = plt.subplots()\n",
    "cc = ax.pcolormesh(res.x / au, a_i, np.log10(sig_da.T), vmin=-10, vmax=1)#, edgecolor='k')\n",
    "ax.loglog(res.x / au, res.a_t[it, :], 'r')\n",
    "ax.set_xscale('log')\n",
    "ax.set_yscale('log')\n",
    "ax.set_ylim(a[[0, -1]])\n",
    "#ax.set_xlim(2e-1, 4e-1)\n",
    "#ax.set_ylim(6e0, 2e1)\n",
    "plt.colorbar(cc);"
   ]
  },
  {
   "cell_type": "markdown",
   "metadata": {},
   "source": [
    "## Interpolate opacity"
   ]
  },
  {
   "cell_type": "code",
   "execution_count": null,
   "metadata": {},
   "outputs": [],
   "source": [
    "# set wavelength\n",
    "\n",
    "lam_obs = 0.13\n",
    "\n",
    "# interpolate on our wavelength and size grid\n",
    "\n",
    "f_interp = interp2d(np.log10(lam_op), np.log10(a_op), np.log10(k_abs))\n",
    "k_a = 10.**f_interp(np.log10(lam_obs), np.log10(a))\n",
    "\n",
    "plt.loglog(a, k_a)"
   ]
  },
  {
   "cell_type": "markdown",
   "metadata": {},
   "source": [
    "## Calculate intensity profile"
   ]
  },
  {
   "cell_type": "code",
   "execution_count": null,
   "metadata": {},
   "outputs": [],
   "source": [
    "from disklab.diskradial import bplanck"
   ]
  }
 ],
 "metadata": {
  "kernelspec": {
   "display_name": "Python 3",
   "language": "python",
   "name": "python3"
  },
  "language_info": {
   "codemirror_mode": {
    "name": "ipython",
    "version": 3
   },
   "file_extension": ".py",
   "mimetype": "text/x-python",
   "name": "python",
   "nbconvert_exporter": "python",
   "pygments_lexer": "ipython3",
   "version": "3.6.10"
  }
 },
 "nbformat": 4,
 "nbformat_minor": 4
}
